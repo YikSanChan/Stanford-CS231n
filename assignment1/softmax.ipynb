{
 "cells": [
  {
   "cell_type": "markdown",
   "metadata": {},
   "source": [
    "# Softmax exercise\n",
    "\n",
    "*Complete and hand in this completed worksheet (including its outputs and any supporting code outside of the worksheet) with your assignment submission. For more details see the [assignments page](http://vision.stanford.edu/teaching/cs231n/assignments.html) on the course website.*\n",
    "\n",
    "This exercise is analogous to the SVM exercise. You will:\n",
    "\n",
    "- implement a fully-vectorized **loss function** for the Softmax classifier\n",
    "- implement the fully-vectorized expression for its **analytic gradient**\n",
    "- **check your implementation** with numerical gradient\n",
    "- use a validation set to **tune the learning rate and regularization** strength\n",
    "- **optimize** the loss function with **SGD**\n",
    "- **visualize** the final learned weights\n"
   ]
  },
  {
   "cell_type": "code",
   "execution_count": 1,
   "metadata": {
    "collapsed": false
   },
   "outputs": [],
   "source": [
    "import random\n",
    "import numpy as np\n",
    "from cs231n.data_utils import load_CIFAR10\n",
    "import matplotlib.pyplot as plt\n",
    "%matplotlib inline\n",
    "plt.rcParams['figure.figsize'] = (10.0, 8.0) # set default size of plots\n",
    "plt.rcParams['image.interpolation'] = 'nearest'\n",
    "plt.rcParams['image.cmap'] = 'gray'\n",
    "\n",
    "# for auto-reloading extenrnal modules\n",
    "# see http://stackoverflow.com/questions/1907993/autoreload-of-modules-in-ipython\n",
    "%load_ext autoreload\n",
    "%autoreload 2"
   ]
  },
  {
   "cell_type": "code",
   "execution_count": 2,
   "metadata": {
    "collapsed": false
   },
   "outputs": [
    {
     "name": "stdout",
     "output_type": "stream",
     "text": [
      "Train data shape:  (49000, 3073)\n",
      "Train labels shape:  (49000,)\n",
      "Validation data shape:  (1000, 3073)\n",
      "Validation labels shape:  (1000,)\n",
      "Test data shape:  (1000, 3073)\n",
      "Test labels shape:  (1000,)\n",
      "dev data shape:  (500, 3073)\n",
      "dev labels shape:  (500,)\n"
     ]
    }
   ],
   "source": [
    "def get_CIFAR10_data(num_training=49000, num_validation=1000, num_test=1000, num_dev=500):\n",
    "  \"\"\"\n",
    "  Load the CIFAR-10 dataset from disk and perform preprocessing to prepare\n",
    "  it for the linear classifier. These are the same steps as we used for the\n",
    "  SVM, but condensed to a single function.  \n",
    "  \"\"\"\n",
    "  # Load the raw CIFAR-10 data\n",
    "  cifar10_dir = 'cs231n/datasets/cifar-10-batches-py'\n",
    "  X_train, y_train, X_test, y_test = load_CIFAR10(cifar10_dir)\n",
    "  \n",
    "  # subsample the data\n",
    "  mask = range(num_training, num_training + num_validation)\n",
    "  X_val = X_train[mask]\n",
    "  y_val = y_train[mask]\n",
    "  mask = range(num_training)\n",
    "  X_train = X_train[mask]\n",
    "  y_train = y_train[mask]\n",
    "  mask = range(num_test)\n",
    "  X_test = X_test[mask]\n",
    "  y_test = y_test[mask]\n",
    "  mask = np.random.choice(num_training, num_dev, replace=False)\n",
    "  X_dev = X_train[mask]\n",
    "  y_dev = y_train[mask]\n",
    "  \n",
    "  # Preprocessing: reshape the image data into rows\n",
    "  X_train = np.reshape(X_train, (X_train.shape[0], -1))\n",
    "  X_val = np.reshape(X_val, (X_val.shape[0], -1))\n",
    "  X_test = np.reshape(X_test, (X_test.shape[0], -1))\n",
    "  X_dev = np.reshape(X_dev, (X_dev.shape[0], -1))\n",
    "  \n",
    "  # Normalize the data: subtract the mean image\n",
    "  mean_image = np.mean(X_train, axis = 0)\n",
    "  X_train -= mean_image\n",
    "  X_val -= mean_image\n",
    "  X_test -= mean_image\n",
    "  X_dev -= mean_image\n",
    "  \n",
    "  # add bias dimension and transform into columns\n",
    "  X_train = np.hstack([X_train, np.ones((X_train.shape[0], 1))])\n",
    "  X_val = np.hstack([X_val, np.ones((X_val.shape[0], 1))])\n",
    "  X_test = np.hstack([X_test, np.ones((X_test.shape[0], 1))])\n",
    "  X_dev = np.hstack([X_dev, np.ones((X_dev.shape[0], 1))])\n",
    "  \n",
    "  return X_train, y_train, X_val, y_val, X_test, y_test, X_dev, y_dev\n",
    "\n",
    "\n",
    "# Invoke the above function to get our data.\n",
    "X_train, y_train, X_val, y_val, X_test, y_test, X_dev, y_dev = get_CIFAR10_data()\n",
    "print 'Train data shape: ', X_train.shape\n",
    "print 'Train labels shape: ', y_train.shape\n",
    "print 'Validation data shape: ', X_val.shape\n",
    "print 'Validation labels shape: ', y_val.shape\n",
    "print 'Test data shape: ', X_test.shape\n",
    "print 'Test labels shape: ', y_test.shape\n",
    "print 'dev data shape: ', X_dev.shape\n",
    "print 'dev labels shape: ', y_dev.shape"
   ]
  },
  {
   "cell_type": "markdown",
   "metadata": {},
   "source": [
    "## Softmax Classifier\n",
    "\n",
    "Your code for this section will all be written inside **cs231n/classifiers/softmax.py**. \n"
   ]
  },
  {
   "cell_type": "code",
   "execution_count": 24,
   "metadata": {
    "collapsed": false
   },
   "outputs": [
    {
     "name": "stdout",
     "output_type": "stream",
     "text": [
      "loss: 2.349882\n",
      "sanity check: 2.302585\n"
     ]
    }
   ],
   "source": [
    "# First implement the naive softmax loss function with nested loops.\n",
    "# Open the file cs231n/classifiers/softmax.py and implement the\n",
    "# softmax_loss_naive function.\n",
    "\n",
    "from cs231n.classifiers.softmax import softmax_loss_naive\n",
    "import time\n",
    "\n",
    "# Generate a random softmax weight matrix and use it to compute the loss.\n",
    "W = np.random.randn(3073, 10) * 0.0001\n",
    "loss, grad = softmax_loss_naive(W, X_dev, y_dev, 0.0)\n",
    "\n",
    "# As a rough sanity check, our loss should be something close to -log(0.1).\n",
    "print 'loss: %f' % loss\n",
    "print 'sanity check: %f' % (-np.log(0.1))"
   ]
  },
  {
   "cell_type": "markdown",
   "metadata": {},
   "source": [
    "#### Implementation details\n",
    "\n",
    "$$L =  \\underbrace{ \\frac{1}{N} \\sum_i L_i }_\\text{data loss} + \\underbrace{ \\frac{1}{2} \\lambda \\sum_k\\sum_l W_{k,l}^2 }_\\text{regularization loss}$$\n",
    "For each $i$,\n",
    "$$L_i=-\\log \\frac{e^{s_{y_i}}}{\\sum_j e^{s_j}}$$\n",
    "$$s=x_i \\cdot W$$\n",
    "$$s_j=(x_i \\cdot W)_j=x_i \\cdot W_{,:j}$$\n",
    "\n",
    "Also note that to avoid numerically instability,\n",
    "$$\n",
    "\\frac{e^{s_{y_i}}}{\\sum_j e^{s_j}}\n",
    "= \\frac{Ce^{s_{y_i}}}{C\\sum_j e^{s_j}}\n",
    "= \\frac{e^{s_{y_i} + \\log C}}{\\sum_j e^{s_j + \\log C}}\n",
    "$$\n",
    "$$\n",
    "\\log C=-\\max_j s_j\n",
    "$$"
   ]
  },
  {
   "cell_type": "markdown",
   "metadata": {},
   "source": [
    "## Inline Question 1:\n",
    "Why do we expect our loss to be close to -log(0.1)? Explain briefly.**\n",
    "\n",
    "**Your answer:** *There are 10 classes in total, and each class is expected to have probability 0.1. Thus for a specific (gold standard) class y_i, loss would be about -log(0.1).*\n"
   ]
  },
  {
   "cell_type": "code",
   "execution_count": 26,
   "metadata": {
    "collapsed": false
   },
   "outputs": [
    {
     "name": "stdout",
     "output_type": "stream",
     "text": [
      "numerical: 1.812642 analytic: 1.812642, relative error: 9.378005e-09\n",
      "numerical: 0.553656 analytic: 0.553656, relative error: 7.483072e-08\n",
      "numerical: 2.831351 analytic: 2.831351, relative error: 1.264756e-09\n",
      "numerical: 0.134144 analytic: 0.134144, relative error: 9.273043e-08\n",
      "numerical: 0.168505 analytic: 0.168505, relative error: 4.958724e-08\n",
      "numerical: 2.058290 analytic: 2.058290, relative error: 2.837256e-08\n",
      "numerical: 1.636992 analytic: 1.636991, relative error: 2.707644e-08\n",
      "numerical: 0.074902 analytic: 0.074902, relative error: 1.840061e-07\n",
      "numerical: 2.650538 analytic: 2.650538, relative error: 1.387574e-08\n",
      "numerical: -1.363504 analytic: -1.363504, relative error: 7.569992e-10\n",
      "numerical: -1.505055 analytic: -1.505055, relative error: 4.025128e-08\n",
      "numerical: 0.287144 analytic: 0.287144, relative error: 1.605477e-07\n",
      "numerical: 0.875888 analytic: 0.875888, relative error: 1.633711e-08\n",
      "numerical: 1.230143 analytic: 1.230143, relative error: 3.001294e-08\n",
      "numerical: 1.294564 analytic: 1.294564, relative error: 1.145805e-09\n",
      "numerical: -3.157258 analytic: -3.157257, relative error: 3.047552e-09\n",
      "numerical: 4.976178 analytic: 4.976178, relative error: 1.916945e-08\n",
      "numerical: 2.116022 analytic: 2.116022, relative error: 4.966646e-08\n",
      "numerical: -1.002326 analytic: -1.002326, relative error: 1.213499e-09\n",
      "numerical: -0.416773 analytic: -0.416773, relative error: 1.924288e-08\n"
     ]
    }
   ],
   "source": [
    "# Complete the implementation of softmax_loss_naive and implement a (naive)\n",
    "# version of the gradient that uses nested loops.\n",
    "loss, grad = softmax_loss_naive(W, X_dev, y_dev, 0.0)\n",
    "\n",
    "# As we did for the SVM, use numeric gradient checking as a debugging tool.\n",
    "# The numeric gradient should be close to the analytic gradient.\n",
    "from cs231n.gradient_check import grad_check_sparse\n",
    "f = lambda w: softmax_loss_naive(w, X_dev, y_dev, 0.0)[0]\n",
    "grad_numerical = grad_check_sparse(f, W, grad, 10)\n",
    "\n",
    "# similar to SVM case, do another gradient check with regularization\n",
    "loss, grad = softmax_loss_naive(W, X_dev, y_dev, 1e2)\n",
    "f = lambda w: softmax_loss_naive(w, X_dev, y_dev, 1e2)[0]\n",
    "grad_numerical = grad_check_sparse(f, W, grad, 10)"
   ]
  },
  {
   "cell_type": "markdown",
   "metadata": {},
   "source": [
    "#### Implementation details\n",
    "\n",
    "In a more general form, see softmax value as probability,\n",
    "$$p_j\\equiv\\frac{e^{s_j}}{\\sum_k e^{s_k}}$$\n",
    "$$L_i=-\\sum_j \\mathbb{1}(y_i=j) \\log p_j$$\n",
    "Let's consider $\\frac{\\partial p_j}{\\partial s_k}$ first. \n",
    "If $k = j$,\n",
    "\\begin{align}\n",
    "\\frac{\\partial p_j}{\\partial s_k}\n",
    "&= \\frac{\\partial ({\\frac{e^{s_k}}{\\sum_k e^{s_k}}})}{\\partial s_k} \\\\\n",
    "&= \\frac{e^{s_k}\\sum_k e^{s_k}-e^{s_k}e^{s_k}}{(\\sum_k e^{s_k})^2} \\\\\n",
    "&= \\frac{e^{s_k}}{\\sum_k e^{s_k}} \\frac{\\sum_k e^{s_k}-e^{s_k}}{\\sum_k e^{s_k}} \\\\\n",
    "&= p_k (1-p_k)\n",
    "\\end{align}\n",
    "If $k \\neq j$,\n",
    "\\begin{align}\n",
    "\\frac{\\partial p_j}{\\partial s_k}\n",
    "&= \\frac{e^{s_j}}{-(\\sum_k e^{s_k})^2}e^{s_k} \\\\\n",
    "&= -\\frac{e^{s_j}}{\\sum_k e^{s_k}} \\frac{e^{s_k}}{\\sum_k e^{s_k}} \\\\\n",
    "&= -p_k p_j\n",
    "\\end{align}\n",
    "So we have,\n",
    "\\begin{align}\n",
    "\\frac{\\partial L_i}{\\partial s_k}\n",
    "&= -\\sum_j \\mathbb{1}(y_i=j) \\frac{\\partial \\log p_j}{\\partial s_k} \\\\\n",
    "&= -\\sum_j \\mathbb{1}(y_i=j) \\frac{1}{p_j} \\frac{\\partial p_j}{\\partial s_k} \\\\\n",
    "&= - \\frac{1}{p_{y_i}} \\frac{\\partial p_{y_i}}{\\partial s_k} \\\\\n",
    "&= \\begin{cases}\n",
    "-\\frac{1}{p_k} p_k (1-p_k) = p_k-1 & \\text{if}\\ y_i=k \\\\\n",
    "-\\frac{1}{p_{y_i}}(-p_k p_{y_i})=p_k & \\text{otherwise} \\\\\n",
    "\\end{cases} \\\\\n",
    "&= p_k - \\mathbb{1}(y_i=k)\n",
    "\\end{align}\n",
    "And also,\n",
    "$$\n",
    "\\frac{\\partial s_k}{\\partial W_{j,k}}=X_{i,j}\n",
    "$$\n",
    "So,\n",
    "\\begin{align}\n",
    "\\frac{\\partial L_i}{\\partial W_{:,k}}\n",
    "&= \\frac{\\partial L_i}{\\partial s_k} \\frac{\\partial s_k}{\\partial W_{:,k}} \\\\\n",
    "&= (p_k - \\mathbb{1}(y_i=k))X_{i,:}\n",
    "\\end{align}"
   ]
  },
  {
   "cell_type": "code",
   "execution_count": 34,
   "metadata": {
    "collapsed": false
   },
   "outputs": [
    {
     "name": "stdout",
     "output_type": "stream",
     "text": [
      "naive loss: 2.349882e+00 computed in 0.167505s\n",
      "vectorized loss: 2.349882e+00 computed in 0.083571s\n",
      "Loss difference: 0.000000\n",
      "Gradient difference: 0.000000\n"
     ]
    }
   ],
   "source": [
    "# Now that we have a naive implementation of the softmax loss function and its gradient,\n",
    "# implement a vectorized version in softmax_loss_vectorized.\n",
    "# The two versions should compute the same results, but the vectorized version should be\n",
    "# much faster.\n",
    "tic = time.time()\n",
    "loss_naive, grad_naive = softmax_loss_naive(W, X_dev, y_dev, 0.00001)\n",
    "toc = time.time()\n",
    "print 'naive loss: %e computed in %fs' % (loss_naive, toc - tic)\n",
    "\n",
    "from cs231n.classifiers.softmax import softmax_loss_vectorized\n",
    "tic = time.time()\n",
    "loss_vectorized, grad_vectorized = softmax_loss_vectorized(W, X_dev, y_dev, 0.00001)\n",
    "toc = time.time()\n",
    "print 'vectorized loss: %e computed in %fs' % (loss_vectorized, toc - tic)\n",
    "\n",
    "# As we did for the SVM, we use the Frobenius norm to compare the two versions\n",
    "# of the gradient.\n",
    "grad_difference = np.linalg.norm(grad_naive - grad_vectorized, ord='fro')\n",
    "print 'Loss difference: %f' % np.abs(loss_naive - loss_vectorized)\n",
    "print 'Gradient difference: %f' % grad_difference"
   ]
  },
  {
   "cell_type": "markdown",
   "metadata": {},
   "source": [
    "Since\n",
    "\\begin{align}\n",
    "\\frac{\\partial L_i}{\\partial W_{j,k}}\n",
    "&= \\frac{\\partial L_i}{\\partial s_k} \\frac{\\partial s_k}{\\partial W_{j,k}} \\\\\n",
    "&= (p_{i,k} - \\mathbb{1}(y_i=k))X_{i,j}\n",
    "\\end{align}\n",
    "Thus,\n",
    "\\begin{align}\n",
    "(dW)_{j,k}\n",
    "&= \\sum_{i=1}^N \\frac{\\partial L_i}{\\partial W_{j,k}} \\\\\n",
    "&= \\sum_{i=1}^N (p_{i,k}-\\mathbb{1}(y_i=k))X_{i,j} \\\\\n",
    "&= \\sum_{i=1}^N (p_{i,k}-\\mathbb{1}_{i,k})X_{i,j} \\\\\n",
    "&= \\sum_{i=1}^N (X^T)_{j,i}(p - \\mathbb{1})_{i,k}\n",
    "\\end{align}\n",
    "So we have,\n",
    "$$\n",
    "dW = X^T \\cdot (p-\\mathbb{1})\n",
    "$$"
   ]
  },
  {
   "cell_type": "code",
   "execution_count": 36,
   "metadata": {
    "collapsed": false
   },
   "outputs": [
    {
     "name": "stderr",
     "output_type": "stream",
     "text": [
      "cs231n/classifiers/softmax.py:78: RuntimeWarning: divide by zero encountered in log\n",
      "  loss += np.sum(-np.log(gold_standard_score / sum_exp_score))\n",
      "cs231n/classifiers/softmax.py:85: RuntimeWarning: overflow encountered in double_scalars\n",
      "  \n",
      "cs231n/classifiers/softmax.py:85: RuntimeWarning: overflow encountered in multiply\n",
      "  \n",
      "cs231n/classifiers/softmax.py:87: RuntimeWarning: overflow encountered in multiply\n",
      "  loss += 0.5 * reg * np.sum(W * W)\n"
     ]
    },
    {
     "name": "stdout",
     "output_type": "stream",
     "text": [
      "lr 1.000000e-07 reg 5.000000e+04 train accuracy: 0.331061 val accuracy: 0.351000\n",
      "lr 1.000000e-07 reg 1.000000e+08 train accuracy: 0.100265 val accuracy: 0.087000\n",
      "lr 5.000000e-07 reg 5.000000e+04 train accuracy: 0.325122 val accuracy: 0.342000\n",
      "lr 5.000000e-07 reg 1.000000e+08 train accuracy: 0.100265 val accuracy: 0.087000\n",
      "best validation accuracy achieved during cross-validation: 0.351000\n"
     ]
    }
   ],
   "source": [
    "# Use the validation set to tune hyperparameters (regularization strength and\n",
    "# learning rate). You should experiment with different ranges for the learning\n",
    "# rates and regularization strengths; if you are careful you should be able to\n",
    "# get a classification accuracy of over 0.35 on the validation set.\n",
    "from cs231n.classifiers.linear_classifier import Softmax\n",
    "results = {}\n",
    "best_val = -1\n",
    "best_softmax = None\n",
    "learning_rates = [1e-7, 5e-7]\n",
    "regularization_strengths = [5e4, 1e8]\n",
    "\n",
    "################################################################################\n",
    "# TODO:                                                                        #\n",
    "# Use the validation set to set the learning rate and regularization strength. #\n",
    "# This should be identical to the validation that you did for the SVM; save    #\n",
    "# the best trained softmax classifer in best_softmax.                          #\n",
    "################################################################################\n",
    "for lr in learning_rates:\n",
    "    for reg in regularization_strengths:\n",
    "        softmax = Softmax()\n",
    "        loss_hist = softmax.train(X_train, y_train, lr, reg, num_iters=1000, verbose=False)\n",
    "        y_train_pred = softmax.predict(X_train)\n",
    "        train_accuracy = np.mean(y_train_pred == y_train)\n",
    "        y_val_pred = softmax.predict(X_val)\n",
    "        val_accuracy = np.mean(y_val_pred == y_val)\n",
    "        results[(lr, reg)] = (train_accuracy, val_accuracy)\n",
    "        if val_accuracy > best_val:\n",
    "            best_val = val_accuracy\n",
    "            best_softmax = softmax\n",
    "################################################################################\n",
    "#                              END OF YOUR CODE                                #\n",
    "################################################################################\n",
    "    \n",
    "# Print out results.\n",
    "for lr, reg in sorted(results):\n",
    "    train_accuracy, val_accuracy = results[(lr, reg)]\n",
    "    print 'lr %e reg %e train accuracy: %f val accuracy: %f' % (\n",
    "                lr, reg, train_accuracy, val_accuracy)\n",
    "    \n",
    "print 'best validation accuracy achieved during cross-validation: %f' % best_val"
   ]
  },
  {
   "cell_type": "code",
   "execution_count": 37,
   "metadata": {
    "collapsed": false
   },
   "outputs": [
    {
     "name": "stdout",
     "output_type": "stream",
     "text": [
      "softmax on raw pixels final test set accuracy: 0.342000\n"
     ]
    }
   ],
   "source": [
    "# evaluate on test set\n",
    "# Evaluate the best softmax on test set\n",
    "y_test_pred = best_softmax.predict(X_test)\n",
    "test_accuracy = np.mean(y_test == y_test_pred)\n",
    "print 'softmax on raw pixels final test set accuracy: %f' % (test_accuracy, )"
   ]
  },
  {
   "cell_type": "code",
   "execution_count": 38,
   "metadata": {
    "collapsed": false
   },
   "outputs": [
    {
     "data": {
      "image/png": "[encoded data removed]",
      "text/plain": [
       "<matplotlib.figure.Figure at 0x10b9ab190>"
      ]
     },
     "metadata": {},
     "output_type": "display_data"
    }
   ],
   "source": [
    "# Visualize the learned weights for each class\n",
    "w = best_softmax.W[:-1,:] # strip out the bias\n",
    "w = w.reshape(32, 32, 3, 10)\n",
    "\n",
    "w_min, w_max = np.min(w), np.max(w)\n",
    "\n",
    "classes = ['plane', 'car', 'bird', 'cat', 'deer', 'dog', 'frog', 'horse', 'ship', 'truck']\n",
    "for i in xrange(10):\n",
    "  plt.subplot(2, 5, i + 1)\n",
    "  \n",
    "  # Rescale the weights to be between 0 and 255\n",
    "  wimg = 255.0 * (w[:, :, :, i].squeeze() - w_min) / (w_max - w_min)\n",
    "  plt.imshow(wimg.astype('uint8'))\n",
    "  plt.axis('off')\n",
    "  plt.title(classes[i])"
   ]
  },
  {
   "cell_type": "code",
   "execution_count": null,
   "metadata": {
    "collapsed": true
   },
   "outputs": [],
   "source": []
  }
 ],
 "metadata": {
  "anaconda-cloud": {},
  "kernelspec": {
   "display_name": "Python [default]",
   "language": "python",
   "name": "python2"
  },
  "language_info": {
   "codemirror_mode": {
    "name": "ipython",
    "version": 2
   },
   "file_extension": ".py",
   "mimetype": "text/x-python",
   "name": "python",
   "nbconvert_exporter": "python",
   "pygments_lexer": "ipython2",
   "version": "2.7.12"
  }
 },
 "nbformat": 4,
 "nbformat_minor": 0
}
